{
 "cells": [
  {
   "attachments": {},
   "cell_type": "markdown",
   "metadata": {},
   "source": [
    "## Descriptive Statistics of Breast Cancer Diagnosis Data from the University of Calabar Teaching Hospital"
   ]
  },
  {
   "attachments": {},
   "cell_type": "markdown",
   "metadata": {},
   "source": [
    "### Preamble"
   ]
  },
  {
   "cell_type": "code",
   "execution_count": 1,
   "metadata": {},
   "outputs": [],
   "source": [
    "# imports\n",
    "import pandas as pd\n",
    "import matplotlib.pyplot as plt\n",
    "\n",
    "from util import summarize_categorical_data\n",
    "from util import check_missing_data"
   ]
  },
  {
   "attachments": {},
   "cell_type": "markdown",
   "metadata": {},
   "source": [
    "### Dataset"
   ]
  },
  {
   "cell_type": "code",
   "execution_count": 2,
   "metadata": {},
   "outputs": [],
   "source": [
    "# load the data\n",
    "data = pd.read_excel('data/UCTH-data.xlsx')"
   ]
  },
  {
   "attachments": {},
   "cell_type": "markdown",
   "metadata": {},
   "source": [
    "### Descriptive Statistics"
   ]
  },
  {
   "cell_type": "code",
   "execution_count": 3,
   "metadata": {},
   "outputs": [
    {
     "data": {
      "text/html": [
       "<div>\n",
       "<style scoped>\n",
       "    .dataframe tbody tr th:only-of-type {\n",
       "        vertical-align: middle;\n",
       "    }\n",
       "\n",
       "    .dataframe tbody tr th {\n",
       "        vertical-align: top;\n",
       "    }\n",
       "\n",
       "    .dataframe thead th {\n",
       "        text-align: right;\n",
       "    }\n",
       "</style>\n",
       "<table border=\"1\" class=\"dataframe\">\n",
       "  <thead>\n",
       "    <tr style=\"text-align: right;\">\n",
       "      <th></th>\n",
       "      <th>S/N</th>\n",
       "      <th>YEAR</th>\n",
       "      <th>AGE</th>\n",
       "      <th>MENOPAUSE</th>\n",
       "      <th>TUMOR SIZE</th>\n",
       "      <th>INV-NODES</th>\n",
       "      <th>BREAST</th>\n",
       "      <th>IRRADIATE</th>\n",
       "      <th>BREAST QUAD</th>\n",
       "      <th>HISTORY</th>\n",
       "      <th>DIAGNOSIS RESULT</th>\n",
       "    </tr>\n",
       "  </thead>\n",
       "  <tbody>\n",
       "    <tr>\n",
       "      <th>0</th>\n",
       "      <td>1</td>\n",
       "      <td>2019</td>\n",
       "      <td>40</td>\n",
       "      <td>1</td>\n",
       "      <td>2</td>\n",
       "      <td>0</td>\n",
       "      <td>Right</td>\n",
       "      <td>0</td>\n",
       "      <td>Upper inner</td>\n",
       "      <td>0</td>\n",
       "      <td>Benign</td>\n",
       "    </tr>\n",
       "    <tr>\n",
       "      <th>1</th>\n",
       "      <td>2</td>\n",
       "      <td>2019</td>\n",
       "      <td>39</td>\n",
       "      <td>1</td>\n",
       "      <td>2</td>\n",
       "      <td>0</td>\n",
       "      <td>Left</td>\n",
       "      <td>0</td>\n",
       "      <td>Upper outer</td>\n",
       "      <td>0</td>\n",
       "      <td>Benign</td>\n",
       "    </tr>\n",
       "    <tr>\n",
       "      <th>2</th>\n",
       "      <td>3</td>\n",
       "      <td>2019</td>\n",
       "      <td>45</td>\n",
       "      <td>0</td>\n",
       "      <td>4</td>\n",
       "      <td>0</td>\n",
       "      <td>Left</td>\n",
       "      <td>0</td>\n",
       "      <td>Lower outer</td>\n",
       "      <td>0</td>\n",
       "      <td>Benign</td>\n",
       "    </tr>\n",
       "    <tr>\n",
       "      <th>3</th>\n",
       "      <td>4</td>\n",
       "      <td>2019</td>\n",
       "      <td>26</td>\n",
       "      <td>1</td>\n",
       "      <td>3</td>\n",
       "      <td>0</td>\n",
       "      <td>Left</td>\n",
       "      <td>0</td>\n",
       "      <td>Lower inner</td>\n",
       "      <td>1</td>\n",
       "      <td>Benign</td>\n",
       "    </tr>\n",
       "    <tr>\n",
       "      <th>4</th>\n",
       "      <td>5</td>\n",
       "      <td>2019</td>\n",
       "      <td>21</td>\n",
       "      <td>1</td>\n",
       "      <td>1</td>\n",
       "      <td>0</td>\n",
       "      <td>Right</td>\n",
       "      <td>0</td>\n",
       "      <td>Upper outer</td>\n",
       "      <td>1</td>\n",
       "      <td>Benign</td>\n",
       "    </tr>\n",
       "  </tbody>\n",
       "</table>\n",
       "</div>"
      ],
      "text/plain": [
       "   S/N  YEAR  AGE  MENOPAUSE TUMOR SIZE INV-NODES BREAST IRRADIATE  \\\n",
       "0    1  2019   40          1          2         0  Right         0   \n",
       "1    2  2019   39          1          2         0   Left         0   \n",
       "2    3  2019   45          0          4         0   Left         0   \n",
       "3    4  2019   26          1          3         0   Left         0   \n",
       "4    5  2019   21          1          1         0  Right         0   \n",
       "\n",
       "   BREAST QUAD HISTORY DIAGNOSIS RESULT  \n",
       "0  Upper inner       0           Benign  \n",
       "1  Upper outer       0           Benign  \n",
       "2  Lower outer       0           Benign  \n",
       "3  Lower inner       1           Benign  \n",
       "4  Upper outer       1           Benign  "
      ]
     },
     "execution_count": 3,
     "metadata": {},
     "output_type": "execute_result"
    }
   ],
   "source": [
    "# display the data table\n",
    "data.head()"
   ]
  },
  {
   "attachments": {},
   "cell_type": "markdown",
   "metadata": {},
   "source": [
    "#### Missing Data Analysis"
   ]
  },
  {
   "cell_type": "code",
   "execution_count": 4,
   "metadata": {},
   "outputs": [
    {
     "name": "stdout",
     "output_type": "stream",
     "text": [
      "Missing Data:\n",
      "S/N                 0\n",
      "YEAR                1\n",
      "AGE                 0\n",
      "MENOPAUSE           0\n",
      "TUMOR SIZE          1\n",
      "INV-NODES           1\n",
      "BREAST              6\n",
      "IRRADIATE           1\n",
      "BREAST QUAD         2\n",
      "HISTORY             2\n",
      "DIAGNOSIS RESULT    0\n",
      "dtype: int64\n"
     ]
    }
   ],
   "source": [
    "# show missing data where missing data is coded as #\n",
    "check_missing_data(data)"
   ]
  },
  {
   "attachments": {},
   "cell_type": "markdown",
   "metadata": {},
   "source": [
    "#### Histogram of Age"
   ]
  },
  {
   "cell_type": "code",
   "execution_count": 8,
   "metadata": {},
   "outputs": [
    {
     "data": {
      "image/png": "[encoded data removed]",
      "text/plain": [
       "<Figure size 432x288 with 1 Axes>"
      ]
     },
     "metadata": {
      "needs_background": "light"
     },
     "output_type": "display_data"
    }
   ],
   "source": [
    "# Create histogram\n",
    "plt.hist(data[\"AGE\"], bins=20, edgecolor='black', color='#4c72b0')\n",
    "\n",
    "# Add axis labels and title\n",
    "plt.xlabel(\"Age\")\n",
    "plt.ylabel(\"Frequency\")\n",
    "plt.title(\"Histogram of Age\")\n",
    "\n",
    "# Set x-axis and y-axis limits\n",
    "plt.xlim([20, 80])\n",
    "plt.ylim([0, 30])\n",
    "\n",
    "# Add grid\n",
    "plt.grid(True, alpha=0.3)\n",
    "\n",
    "# Save the plot as a PNG file\n",
    "plt.savefig(\"age_histogram.png\", dpi=300)\n",
    "\n",
    "# Display the plot\n",
    "plt.show()"
   ]
  },
  {
   "attachments": {},
   "cell_type": "markdown",
   "metadata": {},
   "source": [
    "#### Summarize the \"Breast\" Variable"
   ]
  },
  {
   "cell_type": "code",
   "execution_count": 12,
   "metadata": {},
   "outputs": [
    {
     "name": "stdout",
     "output_type": "stream",
     "text": [
      "Breast Summary:\n",
      "       Frequency  Percentage\n",
      "Left         106   49.765258\n",
      "Right        100   46.948357\n",
      "#              6    2.816901\n",
      "left           1    0.469484\n"
     ]
    }
   ],
   "source": [
    "# Summarize the \"Breast\" variable - The side of the body affected (left or right)\n",
    "breast_summary = summarize_categorical_data(data, \"BREAST\")\n",
    "print(\"Breast Summary:\")\n",
    "print(breast_summary)"
   ]
  },
  {
   "attachments": {},
   "cell_type": "markdown",
   "metadata": {},
   "source": [
    "#### Summarize the \"Breast Quad\" Variable"
   ]
  },
  {
   "cell_type": "code",
   "execution_count": 13,
   "metadata": {},
   "outputs": [
    {
     "name": "stdout",
     "output_type": "stream",
     "text": [
      "Breast Quad Summary:\n",
      "              Frequency  Percentage\n",
      "Upper outer          67   31.455399\n",
      "Lower outer          54   25.352113\n",
      "Upper inner          45   21.126761\n",
      "Lower inner          43   20.187793\n",
      "#                     2    0.938967\n",
      "Lower innner          1    0.469484\n",
      "Upper outer           1    0.469484\n"
     ]
    }
   ],
   "source": [
    "# Summarize the \"Breast Quad\" variable - The section of the gland in which the cancer was located, with the nipple as a central point\n",
    "breast_quad_summary = summarize_categorical_data(data, \"BREAST QUAD\")\n",
    "print(\"Breast Quad Summary:\")\n",
    "print(breast_quad_summary)"
   ]
  },
  {
   "attachments": {},
   "cell_type": "markdown",
   "metadata": {},
   "source": [
    "#### Summarize the \"Diagnosis Result\" Variable"
   ]
  },
  {
   "cell_type": "code",
   "execution_count": 14,
   "metadata": {},
   "outputs": [
    {
     "name": "stdout",
     "output_type": "stream",
     "text": [
      "Diagnosis Result Summary:\n",
      "           Frequency  Percentage\n",
      "Benign           120   56.338028\n",
      "Malignant         93   43.661972\n"
     ]
    }
   ],
   "source": [
    "# Summarize the \"Diagnosis Result\" variable - TThe final diagnosis of the breast cancer dataset.\n",
    "diagnosis_result_summary = summarize_categorical_data(data, \"DIAGNOSIS RESULT\")\n",
    "print(\"Diagnosis Result Summary:\")\n",
    "print(diagnosis_result_summary)"
   ]
  },
  {
   "attachments": {},
   "cell_type": "markdown",
   "metadata": {},
   "source": [
    "## End"
   ]
  }
 ],
 "metadata": {
  "kernelspec": {
   "display_name": "Python 3",
   "language": "python",
   "name": "python3"
  },
  "language_info": {
   "codemirror_mode": {
    "name": "ipython",
    "version": 3
   },
   "file_extension": ".py",
   "mimetype": "text/x-python",
   "name": "python",
   "nbconvert_exporter": "python",
   "pygments_lexer": "ipython3",
   "version": "3.9.7"
  },
  "orig_nbformat": 4,
  "vscode": {
   "interpreter": {
    "hash": "d3d75821bcf4feaf1f217bc48e0476704d1e370730a1c2c1904ae336398d4e1f"
   }
  }
 },
 "nbformat": 4,
 "nbformat_minor": 2
}
